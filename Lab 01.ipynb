{
 "cells": [
  {
   "cell_type": "code",
   "execution_count": 1,
   "metadata": {
    "id": "pRCjmI368qeB"
   },
   "outputs": [],
   "source": [
    "import tensorflow as tf\n",
    "\n",
    "import os, urllib, shutil, pathlib"
   ]
  },
  {
   "cell_type": "markdown",
   "metadata": {},
   "source": [
    "Load Dataset on Kaggle Dataset"
   ]
  },
  {
   "cell_type": "code",
   "execution_count": 2,
   "metadata": {
    "id": "gmXJLyJy83eo"
   },
   "outputs": [],
   "source": [
    "origin = \"https://download.microsoft.com/download/3/E/1/3E1C3F21-ECDB-4869-8368-6DEBA77B919F/\"\n",
    "\n",
    "kaggle = \"kagglecatsanddogs_5340.zip\"\n",
    "\n",
    "origin += kaggle"
   ]
  },
  {
   "cell_type": "code",
   "execution_count": null,
   "metadata": {
    "id": "gjy1fNkc8-J8"
   },
   "outputs": [],
   "source": [
    "urllib.request.urlretrieve(origin, kaggle)"
   ]
  },
  {
   "cell_type": "code",
   "execution_count": 4,
   "metadata": {
    "id": "dcnu4V1t8__A"
   },
   "outputs": [],
   "source": [
    "shutil.unpack_archive(kaggle, '/content', 'zip')"
   ]
  },
  {
   "cell_type": "code",
   "execution_count": 5,
   "metadata": {
    "colab": {
     "base_uri": "https://localhost:8080/"
    },
    "id": "lN7S8l9t9BKR",
    "outputId": "8db96452-a255-443f-89ab-94085b4de006"
   },
   "outputs": [
    {
     "data": {
      "text/plain": [
       "['Dog', 'Cat']"
      ]
     },
     "execution_count": 5,
     "metadata": {},
     "output_type": "execute_result"
    }
   ],
   "source": [
    "rooter = \"/content/PetImages\"\n",
    "\n",
    "os.listdir(rooter)"
   ]
  },
  {
   "cell_type": "markdown",
   "metadata": {},
   "source": [
    "Delete Corrupt Images"
   ]
  },
  {
   "cell_type": "code",
   "execution_count": 6,
   "metadata": {
    "colab": {
     "base_uri": "https://localhost:8080/"
    },
    "id": "HU7vXtD69DGb",
    "outputId": "6fa56379-c626-4378-f8af-c8f421a0ffff"
   },
   "outputs": [
    {
     "data": {
      "text/plain": [
       "(759, 831)"
      ]
     },
     "execution_count": 6,
     "metadata": {},
     "output_type": "execute_result"
    }
   ],
   "source": [
    "def imroot(root):\n",
    "\n",
    "  i = 0\n",
    "  for item in os.listdir(root):\n",
    "    roti = os.path.join(root, item)\n",
    "    try:\n",
    "      inputi = open(roti, \"rb\")\n",
    "      images = tf.compat.as_bytes(\"JFIF\") in inputi.peek(10)\n",
    "    finally:\n",
    "      inputi.close()\n",
    "\n",
    "    if not images:\n",
    "      i += 1\n",
    "      os.remove(roti)\n",
    "\n",
    "  return i\n",
    "\n",
    "cat_lost = imroot(os.path.join(rooter, \"Cat\"))\n",
    "\n",
    "dog_lost = imroot(os.path.join(rooter, \"Dog\"))\n",
    "\n",
    "cat_lost, dog_lost"
   ]
  },
  {
   "cell_type": "code",
   "execution_count": 7,
   "metadata": {
    "colab": {
     "base_uri": "https://localhost:8080/"
    },
    "id": "L1LA1ICn9FML",
    "outputId": "1098829d-dc75-4a50-e87e-8ad4f16755ae"
   },
   "outputs": [
    {
     "data": {
      "text/plain": [
       "23412"
      ]
     },
     "execution_count": 7,
     "metadata": {},
     "output_type": "execute_result"
    }
   ],
   "source": [
    "cats = len(os.listdir(os.path.join(rooter, \"Cat\")))\n",
    "\n",
    "dogs = len(os.listdir(os.path.join(rooter, \"Dog\")))\n",
    "\n",
    "total_images = cats + dogs\n",
    "\n",
    "total_images"
   ]
  },
  {
   "cell_type": "markdown",
   "metadata": {},
   "source": [
    "Our Total Images is 23.412 Images After Data Cleaning"
   ]
  },
  {
   "cell_type": "code",
   "execution_count": null,
   "metadata": {
    "id": "r_dCZwbb-XlJ"
   },
   "outputs": [],
   "source": [
    "# Load Images Data to TensorFlow Dataset\n",
    "\n",
    "from tensorflow.keras.utils import image_dataset_from_directory\n",
    "\n",
    "subset = \"both\"; label = \"binary\"\n",
    "\n",
    "image = (160, 160); split = 0.3; random = 128\n",
    "\n",
    "unseet = 10\n",
    "\n",
    "orifile = image_dataset_from_directory(\n",
    "  rooter,\n",
    "  seed = unseet,\n",
    "  subset = subset,\n",
    "  image_size = image,\n",
    "  label_mode = label,\n",
    "  batch_size = random,\n",
    "  validation_split = split\n",
    ")\n",
    "\n",
    "train_complete, test_complete = orifile\n",
    "\n",
    "# 16387 + 7023"
   ]
  },
  {
   "cell_type": "code",
   "execution_count": null,
   "metadata": {
    "colab": {
     "base_uri": "https://localhost:8080/"
    },
    "id": "j46M9qoPAPkd",
    "outputId": "02d474d5-f44b-4a9b-939c-654b26a8b077"
   },
   "outputs": [
    {
     "data": {
      "text/plain": [
       "['Cat', 'Dog']"
      ]
     },
     "execution_count": 9,
     "metadata": {},
     "output_type": "execute_result"
    }
   ],
   "source": [
    "labeler = train_complete.class_names\n",
    "\n",
    "labeler"
   ]
  },
  {
   "cell_type": "code",
   "execution_count": 10,
   "metadata": {
    "colab": {
     "base_uri": "https://localhost:8080/"
    },
    "id": "oi3tJEQ8ASyO",
    "outputId": "94e34dcb-94b8-495e-f37d-d774020e28d8"
   },
   "outputs": [
    {
     "data": {
      "text/plain": [
       "1920"
      ]
     },
     "execution_count": 10,
     "metadata": {},
     "output_type": "execute_result"
    }
   ],
   "source": [
    "total_train_images = 0\n",
    "\n",
    "train = train_complete.take(15)\n",
    "\n",
    "for i_sample, l_sample in iter(train):\n",
    "\n",
    "  total_train_images += i_sample.shape[0]\n",
    "\n",
    "total_train_images"
   ]
  },
  {
   "cell_type": "code",
   "execution_count": 11,
   "metadata": {
    "colab": {
     "base_uri": "https://localhost:8080/"
    },
    "id": "qgMRjohhBJqp",
    "outputId": "0b28ca72-092c-4b28-f5d2-050f022fb104"
   },
   "outputs": [
    {
     "data": {
      "text/plain": [
       "1024"
      ]
     },
     "execution_count": 11,
     "metadata": {},
     "output_type": "execute_result"
    }
   ],
   "source": [
    "test_complete = test_complete.cache().prefetch(buffer_size = tf.data.AUTOTUNE)\n",
    "\n",
    "total_test_images = 0\n",
    "\n",
    "test = test_complete.take(8)\n",
    "\n",
    "for i_sample, l_sample in iter(test):\n",
    "\n",
    "  total_test_images += i_sample.shape[0]\n",
    "\n",
    "total_test_images"
   ]
  },
  {
   "cell_type": "markdown",
   "metadata": {},
   "source": [
    "#### `Model Spirior`\n",
    "\n",
    "Create Model to Classify Cat or Dog"
   ]
  },
  {
   "cell_type": "code",
   "execution_count": null,
   "metadata": {
    "id": "Ch0pt12hCUjo"
   },
   "outputs": [],
   "source": [
    "# Solution to Image Augmentation\n",
    "\n",
    "from tensorflow.keras import Model, layers\n",
    "\n",
    "class SolAug(Model):\n",
    "  def __init__(self):\n",
    "    super(SolAug, self).__init__()\n",
    "    self.rescale = layers.Rescaling(1.0 / 255.0)\n",
    "    self.rotation_range = layers.RandomRotation(0.2)\n",
    "    self.random_zoom = layers.RandomZoom(0.2)\n",
    "    self.random_flip = layers.RandomFlip()\n",
    "\n",
    "  def call(self, inputs):\n",
    "    x = self.rescale(inputs)\n",
    "    x = self.rotation_range(x)\n",
    "    x = self.random_zoom(x)\n",
    "    y = self.random_flip(x)\n",
    "    return y\n",
    "\n",
    "Solitation = SolAug()\n",
    "\n",
    "# Perform Caching on Train, Test Dataset to Fasten Model Training\n",
    "\n",
    "autotune = tf.data.AUTOTUNE\n",
    "\n",
    "train = train.map(lambda i, l : (Solitation(i), l)).cache().prefetch(buffer_size = autotune)\n",
    "\n",
    "test = test.map(lambda i, l : (Solitation(i), l)).cache().prefetch(buffer_size = autotune)"
   ]
  },
  {
   "cell_type": "markdown",
   "metadata": {},
   "source": [
    "#### `First Model`"
   ]
  },
  {
   "cell_type": "code",
   "execution_count": null,
   "metadata": {
    "id": "4-eCcmwmDsmZ"
   },
   "outputs": [],
   "source": [
    "import warnings\n",
    "\n",
    "warnings.filterwarnings(\"ignore\")\n",
    "\n",
    "from tensorflow.keras.models import Sequential\n",
    "\n",
    "from tensorflow.keras import Model, layers\n",
    "\n",
    "model = Sequential([\n",
    "  layers.Conv2D(16, (3,3), activation='relu', input_shape=(160, 160, 3)),\n",
    "  layers.MaxPooling2D(2,2),\n",
    "  layers.Conv2D(32, (3,3), activation='relu'),\n",
    "  layers.MaxPooling2D(2,2),\n",
    "  layers.Conv2D(64, (3,3), activation='relu'),\n",
    "  layers.MaxPooling2D(2,2),\n",
    "  layers.Flatten(),\n",
    "  layers.Dropout(0.4),\n",
    "  layers.Dense(128, activation=\"relu\", kernel_regularizer=tf.keras.regularizers.l2(0.01)),\n",
    "  layers.Dense(1, activation=tf.nn.sigmoid)\n",
    "])\n",
    "\n",
    "model.compile(optimizer=\"adam\", loss=\"binary_crossentropy\", metrics=[\"accuracy\"])\n",
    "\n",
    "simp_model = model.fit(train, epochs=18, validation_data=test)"
   ]
  },
  {
   "cell_type": "code",
   "execution_count": 14,
   "metadata": {
    "colab": {
     "base_uri": "https://localhost:8080/"
    },
    "id": "z2tjqWfFGvtS",
    "outputId": "d2975c64-4997-4b01-ce8e-51ca2d25abe6"
   },
   "outputs": [
    {
     "data": {
      "text/plain": [
       "[0.5473127961158752, 0.7942708134651184]"
      ]
     },
     "execution_count": 14,
     "metadata": {},
     "output_type": "execute_result"
    }
   ],
   "source": [
    "model.evaluate(train, verbose=False)"
   ]
  },
  {
   "cell_type": "code",
   "execution_count": 15,
   "metadata": {
    "colab": {
     "base_uri": "https://localhost:8080/"
    },
    "id": "YdnxSMwtG0Vw",
    "outputId": "2f8b6763-8ad6-4372-c639-27da01e59d0a"
   },
   "outputs": [
    {
     "data": {
      "text/plain": [
       "[0.7189428806304932, 0.6396484375]"
      ]
     },
     "execution_count": 15,
     "metadata": {},
     "output_type": "execute_result"
    }
   ],
   "source": [
    "model.evaluate(test, verbose=False)"
   ]
  },
  {
   "cell_type": "code",
   "execution_count": 16,
   "metadata": {
    "colab": {
     "base_uri": "https://localhost:8080/",
     "height": 465
    },
    "id": "k1tnRuU2HaBj",
    "outputId": "1efca4b4-4d26-41b0-bde1-c07e6c00a27e"
   },
   "outputs": [
    {
     "data": {
      "image/png": "[encoded data removed]",
      "text/plain": [
       "<Figure size 640x480 with 1 Axes>"
      ]
     },
     "metadata": {},
     "output_type": "display_data"
    }
   ],
   "source": [
    "import matplotlib.pyplot as plt\n",
    "\n",
    "plt.style.use(\"seaborn-v0_8-whitegrid\")\n",
    "\n",
    "class Helplot:\n",
    "  def __init__(self, history):\n",
    "    self.history = history\n",
    "    self.accuracy = history.history['accuracy']\n",
    "    self.val_accuracy = history.history['val_accuracy']\n",
    "    self.loop = [*range(1, len(self.accuracy) + 1)]\n",
    "    self.loss = history.history['loss']\n",
    "    self.val_loss = history.history['val_loss']\n",
    "\n",
    "  @property\n",
    "  def Relplot(self):\n",
    "    plt.plot(self.loop, self.accuracy, label='Train Accuracy')\n",
    "    plt.plot(self.loop, self.val_accuracy, label='Val Accuracy')\n",
    "    plt.title(\"Accuracy Result\")\n",
    "    plt.xlabel(\"Epochs\")\n",
    "    plt.ylabel(\"Accuracy\")\n",
    "    plt.xticks(self.loop)\n",
    "    plt.legend()\n",
    "\n",
    "  @property\n",
    "  def Falplot(self):\n",
    "    plt.plot(self.loop, self.loss, label='Train Loss')\n",
    "    plt.plot(self.loop, self.val_loss, label='Val Loss')\n",
    "    plt.title(\"Loss Result\")\n",
    "    plt.xlabel(\"Epochs\")\n",
    "    plt.ylabel(\"Loss\")\n",
    "    plt.xticks(self.loop)\n",
    "    plt.legend()\n",
    "\n",
    "simp_plot = Helplot(simp_model)\n",
    "\n",
    "simp_plot.Relplot"
   ]
  },
  {
   "cell_type": "code",
   "execution_count": 17,
   "metadata": {
    "colab": {
     "base_uri": "https://localhost:8080/",
     "height": 465
    },
    "id": "G_VIphfuHf0O",
    "outputId": "d5221ba9-d8f5-49ee-d9e0-7f7a2c8e0a12"
   },
   "outputs": [
    {
     "data": {
      "image/png": "[encoded data removed]",
      "text/plain": [
       "<Figure size 640x480 with 1 Axes>"
      ]
     },
     "metadata": {},
     "output_type": "display_data"
    }
   ],
   "source": [
    "simp_plot.Falplot"
   ]
  },
  {
   "cell_type": "markdown",
   "metadata": {},
   "source": [
    "#### `Main Model`"
   ]
  },
  {
   "cell_type": "code",
   "execution_count": null,
   "metadata": {
    "id": "PWlzaLRcIVBL"
   },
   "outputs": [],
   "source": [
    "from tensorflow.keras.applications import MobileNet\n",
    "\n",
    "base_model = MobileNet(input_shape=(160, 160, 3), weights=\"imagenet\", include_top=False)\n",
    "\n",
    "base_model.trainable = False"
   ]
  },
  {
   "cell_type": "code",
   "execution_count": 19,
   "metadata": {
    "id": "xXISsKaVJell"
   },
   "outputs": [],
   "source": [
    "inputs = layers.Input(shape=(160, 160, 3))\n",
    "\n",
    "x = base_model(inputs, training=False)\n",
    "\n",
    "x = layers.GlobalAveragePooling2D()(x)\n",
    "\n",
    "x = layers.Dropout(0.2)(x)\n",
    "\n",
    "outputs = layers.Dense(1, activation=tf.nn.sigmoid)(x)\n",
    "\n",
    "supa_model = Model(inputs, outputs)"
   ]
  },
  {
   "cell_type": "code",
   "execution_count": 20,
   "metadata": {
    "colab": {
     "base_uri": "https://localhost:8080/"
    },
    "id": "8DtvphAFJFNi",
    "outputId": "b43bdd0a-91ab-43e7-842d-b5bd1f10f817"
   },
   "outputs": [
    {
     "data": {
      "text/plain": [
       "[<KerasTensor shape=(None, 160, 160, 3), dtype=float32, sparse=None, name=keras_tensor_98>]"
      ]
     },
     "execution_count": 20,
     "metadata": {},
     "output_type": "execute_result"
    }
   ],
   "source": [
    "supa_model.inputs"
   ]
  },
  {
   "cell_type": "code",
   "execution_count": 21,
   "metadata": {
    "colab": {
     "base_uri": "https://localhost:8080/"
    },
    "id": "bhXrYRBCJIq6",
    "outputId": "5724b6bd-80e2-4d46-c523-a39efb5ccdf2"
   },
   "outputs": [
    {
     "data": {
      "text/plain": [
       "[<KerasTensor shape=(None, 1), dtype=float32, sparse=False, name=keras_tensor_102>]"
      ]
     },
     "execution_count": 21,
     "metadata": {},
     "output_type": "execute_result"
    }
   ],
   "source": [
    "supa_model.outputs"
   ]
  },
  {
   "cell_type": "code",
   "execution_count": 22,
   "metadata": {
    "id": "IQL0iGNpMV2e"
   },
   "outputs": [],
   "source": [
    "supa_model.compile(optimizer=\"adam\", loss=\"binary_crossentropy\", metrics=[\"accuracy\"])"
   ]
  },
  {
   "cell_type": "code",
   "execution_count": null,
   "metadata": {
    "id": "ip8IPlclKzpc"
   },
   "outputs": [],
   "source": [
    "supa_hist = supa_model.fit(train, epochs=10, validation_data=test)"
   ]
  },
  {
   "cell_type": "markdown",
   "metadata": {},
   "source": [
    "#### `Model Test`"
   ]
  },
  {
   "cell_type": "code",
   "execution_count": 24,
   "metadata": {
    "colab": {
     "base_uri": "https://localhost:8080/"
    },
    "id": "EkBjNB5jNdLF",
    "outputId": "a38d9884-82fd-4435-8d23-d85009173c72"
   },
   "outputs": [
    {
     "data": {
      "text/plain": [
       "[0.1739131361246109, 0.9348958134651184]"
      ]
     },
     "execution_count": 24,
     "metadata": {},
     "output_type": "execute_result"
    }
   ],
   "source": [
    "supa_model.evaluate(train, verbose=False)"
   ]
  },
  {
   "cell_type": "code",
   "execution_count": 25,
   "metadata": {
    "colab": {
     "base_uri": "https://localhost:8080/"
    },
    "id": "gA8qCuP3Nso8",
    "outputId": "b073e239-310a-4fb7-89d9-a03ce1f75ede"
   },
   "outputs": [
    {
     "data": {
      "text/plain": [
       "[0.2479652315378189, 0.8916015625]"
      ]
     },
     "execution_count": 25,
     "metadata": {},
     "output_type": "execute_result"
    }
   ],
   "source": [
    "supa_model.evaluate(test, verbose=False)"
   ]
  },
  {
   "cell_type": "code",
   "execution_count": 26,
   "metadata": {
    "colab": {
     "base_uri": "https://localhost:8080/",
     "height": 465
    },
    "id": "tt1EtQPyNvAN",
    "outputId": "487dcf5a-93b0-47dc-8fac-ffc655aed078"
   },
   "outputs": [
    {
     "data": {
      "image/png": "[encoded data removed]",
      "text/plain": [
       "<Figure size 640x480 with 1 Axes>"
      ]
     },
     "metadata": {},
     "output_type": "display_data"
    }
   ],
   "source": [
    "supa_plot = Helplot(supa_hist)\n",
    "\n",
    "supa_plot.Relplot"
   ]
  },
  {
   "cell_type": "code",
   "execution_count": 27,
   "metadata": {
    "colab": {
     "base_uri": "https://localhost:8080/",
     "height": 465
    },
    "id": "XAeSIUA_NxJT",
    "outputId": "db804e86-379f-4a94-eec0-ef3001776f41"
   },
   "outputs": [
    {
     "data": {
      "image/png": "[encoded data removed]",
      "text/plain": [
       "<Figure size 640x480 with 1 Axes>"
      ]
     },
     "metadata": {},
     "output_type": "display_data"
    }
   ],
   "source": [
    "supa_plot.Falplot"
   ]
  },
  {
   "cell_type": "markdown",
   "metadata": {},
   "source": [
    "#### `TensorFlow Lite`\n",
    "\n",
    "Deploy Our Model on TensorFlow Lite"
   ]
  },
  {
   "cell_type": "code",
   "execution_count": null,
   "metadata": {
    "id": "5cFnOItf7uoC"
   },
   "outputs": [],
   "source": [
    "ModelFolder = \"/content/Modelite\"\n",
    "\n",
    "supa_model.export(ModelFolder)"
   ]
  },
  {
   "cell_type": "code",
   "execution_count": 29,
   "metadata": {
    "id": "20tX9nx97ygp"
   },
   "outputs": [],
   "source": [
    "tflite = tf.lite.TFLiteConverter\n",
    "\n",
    "tflite_model = tflite.from_saved_model(ModelFolder)\n",
    "\n",
    "tflite_model.optimizations = [tf.lite.Optimize.DEFAULT]"
   ]
  },
  {
   "cell_type": "code",
   "execution_count": 30,
   "metadata": {
    "colab": {
     "base_uri": "https://localhost:8080/"
    },
    "id": "wT40RjbI70ef",
    "outputId": "a0df9563-17a8-4f57-e546-52528a9fea12"
   },
   "outputs": [
    {
     "data": {
      "text/plain": [
       "(tf.float32, tf.float32)"
      ]
     },
     "execution_count": 30,
     "metadata": {},
     "output_type": "execute_result"
    }
   ],
   "source": [
    "tflite_model.inference_input_type, tflite_model.inference_output_type"
   ]
  },
  {
   "cell_type": "code",
   "execution_count": 31,
   "metadata": {
    "colab": {
     "base_uri": "https://localhost:8080/"
    },
    "id": "PnY8pVr572BM",
    "outputId": "d58635e4-7bcb-4b42-bafa-0d72f3357637"
   },
   "outputs": [
    {
     "data": {
      "text/plain": [
       "3385504"
      ]
     },
     "execution_count": 31,
     "metadata": {},
     "output_type": "execute_result"
    }
   ],
   "source": [
    "tflite_model = tflite_model.convert()\n",
    "\n",
    "pathfile = \"HartModel01.tflite\"\n",
    "\n",
    "tflite_model_file = pathlib.Path(pathfile)\n",
    "\n",
    "tflite_model_file.write_bytes(tflite_model)"
   ]
  },
  {
   "cell_type": "code",
   "execution_count": 32,
   "metadata": {
    "colab": {
     "base_uri": "https://localhost:8080/"
    },
    "id": "G26wvbzm73oO",
    "outputId": "2fbbed03-8ed0-4662-c19f-577d49c2ca44"
   },
   "outputs": [
    {
     "data": {
      "text/plain": [
       "3.228668212890625"
      ]
     },
     "execution_count": 32,
     "metadata": {},
     "output_type": "execute_result"
    }
   ],
   "source": [
    "os.path.getsize(pathfile) / float(2**20)"
   ]
  },
  {
   "cell_type": "code",
   "execution_count": 33,
   "metadata": {
    "colab": {
     "base_uri": "https://localhost:8080/"
    },
    "id": "qJoEpfIN75Cr",
    "outputId": "aaa54031-d2cc-47e9-b70e-c156772fd9a5"
   },
   "outputs": [
    {
     "data": {
      "text/plain": [
       "{'serving_default': {'inputs': ['keras_tensor_98'], 'outputs': ['output_0']}}"
      ]
     },
     "execution_count": 33,
     "metadata": {},
     "output_type": "execute_result"
    }
   ],
   "source": [
    "interpreter = tf.lite.Interpreter(model_path=pathfile)\n",
    "\n",
    "interpreter.get_signature_list()"
   ]
  },
  {
   "cell_type": "code",
   "execution_count": 34,
   "metadata": {
    "colab": {
     "base_uri": "https://localhost:8080/"
    },
    "id": "-L4BJv1g76F5",
    "outputId": "dd9c529e-c6d1-4f50-b6e9-57a6dc0b93ca"
   },
   "outputs": [
    {
     "data": {
      "text/plain": [
       "<tensorflow.lite.python.interpreter.SignatureRunner at 0x7c1eade2e6e0>"
      ]
     },
     "execution_count": 34,
     "metadata": {},
     "output_type": "execute_result"
    }
   ],
   "source": [
    "lite_interpreter = interpreter.get_signature_runner('serving_default')\n",
    "\n",
    "lite_interpreter"
   ]
  },
  {
   "cell_type": "code",
   "execution_count": 35,
   "metadata": {
    "colab": {
     "base_uri": "https://localhost:8080/"
    },
    "id": "yzUaNJqu8k5Z",
    "outputId": "4ebe94e1-3cc6-4b43-e97e-2719ace43c35"
   },
   "outputs": [
    {
     "data": {
      "text/plain": [
       "(128, 1)"
      ]
     },
     "execution_count": 35,
     "metadata": {},
     "output_type": "execute_result"
    }
   ],
   "source": [
    "test_images, test_labels = next(iter(test))\n",
    "\n",
    "tensorlite_test = lite_interpreter(keras_tensor_98=test_images)['output_0']\n",
    "\n",
    "tensorlite_test.shape"
   ]
  },
  {
   "cell_type": "code",
   "execution_count": 36,
   "metadata": {
    "colab": {
     "base_uri": "https://localhost:8080/"
    },
    "id": "MtQqyck38wkg",
    "outputId": "b6b1b573-e62b-4c03-e0bf-ec2335caa26b"
   },
   "outputs": [
    {
     "data": {
      "text/plain": [
       "array([[0.7010224]], dtype=float32)"
      ]
     },
     "execution_count": 36,
     "metadata": {},
     "output_type": "execute_result"
    }
   ],
   "source": [
    "tensorlite_test[:1]"
   ]
  },
  {
   "cell_type": "markdown",
   "metadata": {},
   "source": [
    "#### `TensorFlow Serving`\n",
    "\n",
    "Deploy Our Model on TensorFlow Serving"
   ]
  },
  {
   "cell_type": "code",
   "execution_count": null,
   "metadata": {
    "id": "Bvt8lknn87W8"
   },
   "outputs": [],
   "source": [
    "!apt update\n",
    "\n",
    "!apt-get install tensorflow-model-server"
   ]
  },
  {
   "cell_type": "code",
   "execution_count": 38,
   "metadata": {
    "id": "zrZDG4qI9GP4"
   },
   "outputs": [],
   "source": [
    "class Outlabel(tf.keras.layers.Layer):\n",
    "  def __init__(self):\n",
    "    super(Outlabel, self).__init__()\n",
    "    self.label = labeler\n",
    "\n",
    "  def call(self, inputs):\n",
    "    tf.config.run_functions_eagerly(True)\n",
    "    logits = tf.cast(tf.round(inputs), tf.int32)\n",
    "    logits = tf.gather(self.label, logits)\n",
    "    return logits"
   ]
  },
  {
   "cell_type": "code",
   "execution_count": null,
   "metadata": {
    "id": "l1gwJPf49LVq"
   },
   "outputs": [],
   "source": [
    "input_layer = supa_model.input\n",
    "\n",
    "modular = supa_model(input_layer)\n",
    "\n",
    "output_layer = Outlabel()(modular)\n",
    "\n",
    "modular_server = tf.keras.Model(input_layer, output_layer)\n",
    "\n",
    "modular_server.output"
   ]
  },
  {
   "cell_type": "code",
   "execution_count": 40,
   "metadata": {
    "colab": {
     "base_uri": "https://localhost:8080/"
    },
    "id": "JjbC79uM9XGJ",
    "outputId": "569e935c-1663-4ffe-967a-a818236f6ee2"
   },
   "outputs": [
    {
     "data": {
      "text/plain": [
       "array([[b'Dog'],\n",
       "       [b'Cat'],\n",
       "       [b'Cat']], dtype=object)"
      ]
     },
     "execution_count": 40,
     "metadata": {},
     "output_type": "execute_result"
    }
   ],
   "source": [
    "tester = modular_server.predict(test_images, verbose=0)\n",
    "\n",
    "tester[:3]"
   ]
  },
  {
   "cell_type": "code",
   "execution_count": null,
   "metadata": {
    "id": "skmMDmfE9aHg"
   },
   "outputs": [],
   "source": [
    "ModelFolder = \"/content/ModelServer\"\n",
    "\n",
    "ModelSerial = \"1\"\n",
    "\n",
    "ModuleFolder = os.path.join(ModelFolder, ModelSerial)\n",
    "\n",
    "modular_server.export(ModuleFolder)"
   ]
  },
  {
   "cell_type": "code",
   "execution_count": 42,
   "metadata": {
    "id": "e5q2q8IS9dOm"
   },
   "outputs": [],
   "source": [
    "os.environ[\"ModelFolder\"] = ModelFolder"
   ]
  },
  {
   "cell_type": "code",
   "execution_count": 43,
   "metadata": {
    "id": "_iuO5htO9e8s"
   },
   "outputs": [],
   "source": [
    "%%bash --bg\n",
    "nohup tensorflow_model_server \\\n",
    "  --rest_api_port=8501 \\\n",
    "  --model_name=inter_model \\\n",
    "  --model_base_path=\"${ModelFolder}\" > server.log 2>&1"
   ]
  },
  {
   "cell_type": "code",
   "execution_count": null,
   "metadata": {
    "id": "O1H2PbdV9fir"
   },
   "outputs": [],
   "source": [
    "!tail server.log"
   ]
  },
  {
   "cell_type": "code",
   "execution_count": 45,
   "metadata": {
    "colab": {
     "base_uri": "https://localhost:8080/"
    },
    "id": "n1BpZz0x9lT4",
    "outputId": "c7e0fb6e-47c9-4e17-b951-e866846e1191"
   },
   "outputs": [
    {
     "data": {
      "text/plain": [
       "tensorflow.python.framework.ops.EagerTensor"
      ]
     },
     "execution_count": 45,
     "metadata": {},
     "output_type": "execute_result"
    }
   ],
   "source": [
    "type(test_images)"
   ]
  },
  {
   "cell_type": "code",
   "execution_count": 47,
   "metadata": {
    "id": "sySlmV6x9jC9"
   },
   "outputs": [],
   "source": [
    "import json, requests\n",
    "\n",
    "test_images = test_images.numpy().tolist()\n",
    "\n",
    "url = \"http://127.0.0.1:8501/v1/models/inter_model:predict\""
   ]
  },
  {
   "cell_type": "code",
   "execution_count": 49,
   "metadata": {
    "colab": {
     "base_uri": "https://localhost:8080/"
    },
    "id": "CrSLT_YN9uyC",
    "outputId": "cb915958-24eb-4a4f-8ce7-765fc08831aa"
   },
   "outputs": [
    {
     "data": {
      "text/plain": [
       "[['Dog'], ['Cat'], ['Cat'], ['Cat'], ['Cat']]"
      ]
     },
     "execution_count": 49,
     "metadata": {},
     "output_type": "execute_result"
    }
   ],
   "source": [
    "image = json.dumps({\"signature_name\":\"serving_default\", \"instances\":test_images})\n",
    "\n",
    "content = {\"content-type\":\"application/json\"}\n",
    "\n",
    "response = requests.post(url, data=image, headers=content)\n",
    "\n",
    "loader = json.loads(response.text)\n",
    "\n",
    "result = loader[\"predictions\"]\n",
    "\n",
    "result[:5]"
   ]
  }
 ],
 "metadata": {
  "accelerator": "GPU",
  "colab": {
   "authorship_tag": "ABX9TyPcNURJkOhbMHCX/YrmYEwi",
   "gpuType": "T4",
   "provenance": []
  },
  "kernelspec": {
   "display_name": "Python 3",
   "name": "python3"
  },
  "language_info": {
   "name": "python"
  }
 },
 "nbformat": 4,
 "nbformat_minor": 0
}
