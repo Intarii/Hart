{
  "cells": [
    {
      "cell_type": "code",
      "execution_count": null,
      "metadata": {
        "id": "FsnTboulp_6l"
      },
      "outputs": [],
      "source": [
        "import tensorflow as tf\n",
        "\n",
        "import tensorflow.keras.utils as utils\n",
        "\n",
        "import tensorflow.keras.applications as applications\n",
        "\n",
        "import tensorflow_datasets as tfds\n",
        "\n",
        "tfds.disable_progress_bar()\n",
        "\n",
        "import warnings; warnings.filterwarnings('ignore')\n",
        "\n",
        "import os, pathlib"
      ]
    },
    {
      "cell_type": "markdown",
      "metadata": {
        "id": "s9MuFlyDBQsI"
      },
      "source": [
        "Load Dataset on TensorFlow Dataset"
      ]
    },
    {
      "cell_type": "code",
      "execution_count": null,
      "metadata": {
        "id": "eE2q2MbasH-k"
      },
      "outputs": [],
      "source": [
        "inset = \"cats_vs_dogs\"\n",
        "\n",
        "split = [\"train[:10%]\", \"train[80%:90%]\", \"train[90%:]\"]\n",
        "\n",
        "ontrue = !False\n",
        "\n",
        "(train, test, validation) = tfds.load(inset, split=split, as_supervised=ontrue)"
      ]
    },
    {
      "cell_type": "code",
      "execution_count": null,
      "metadata": {
        "colab": {
          "base_uri": "https://localhost:8080/"
        },
        "id": "s1PgsBGdsT9t",
        "outputId": "74a104fb-7d29-44a5-e4d6-83e4d7a22198"
      },
      "outputs": [
        {
          "data": {
            "text/plain": [
              "(2326, 2326, 2326)"
            ]
          },
          "execution_count": 3,
          "metadata": {},
          "output_type": "execute_result"
        }
      ],
      "source": [
        "len(train), len(test), len(validation)"
      ]
    },
    {
      "cell_type": "markdown",
      "metadata": {
        "id": "GECpH5D-ss0w"
      },
      "source": [
        "Our Cat and Dog Picture in Total is 6.978. With 2.326 Picture in One Section"
      ]
    },
    {
      "cell_type": "code",
      "execution_count": null,
      "metadata": {
        "id": "bi5tK0QGsyzr"
      },
      "outputs": [],
      "source": [
        "# Make Sure our Data on the Same Shape\n",
        "\n",
        "input_shape = (160, 160)\n",
        "\n",
        "inlabel = lambda i, l : (tf.image.resize(i, input_shape) / 255.0, l)\n",
        "\n",
        "batch = 128\n",
        "\n",
        "train = train.map(inlabel).shuffle(len(train)).batch(batch).cache()\n",
        "\n",
        "test = test.map(inlabel).batch(batch)\n",
        "\n",
        "validation = validation.map(inlabel).batch(batch)"
      ]
    },
    {
      "cell_type": "markdown",
      "metadata": {
        "id": "VqmOj6lZtNr-"
      },
      "source": [
        "#### `Model Spirior`\n",
        "\n",
        "Create Model to Classify Cat or Dog"
      ]
    },
    {
      "cell_type": "code",
      "execution_count": null,
      "metadata": {
        "id": "HruLOMhds9uP"
      },
      "outputs": [],
      "source": [
        "from tensorflow.keras.applications import MobileNet\n",
        "\n",
        "import tensorflow.keras.layers as layers\n",
        "\n",
        "inputs = layers.Input((160, 160, 3))\n",
        "\n",
        "intnet = MobileNet(input_tensor=inputs, weights='imagenet', include_top=False)\n",
        "\n",
        "intnet.trainable = False\n",
        "\n",
        "x = layers.GlobalAveragePooling2D()(intnet.output)\n",
        "\n",
        "output = layers.Dense(1, activation='sigmoid')(x)\n",
        "\n",
        "model = tf.keras.Model(inputs, output)"
      ]
    },
    {
      "cell_type": "code",
      "execution_count": null,
      "metadata": {
        "colab": {
          "base_uri": "https://localhost:8080/"
        },
        "id": "foXASWu6tYVh",
        "outputId": "d724b1bc-bfed-45d8-e3f0-b3d73d78377e"
      },
      "outputs": [
        {
          "data": {
            "text/plain": [
              "<KerasTensor shape=(None, 160, 160, 3), dtype=float32, sparse=None, name=keras_tensor>"
            ]
          },
          "execution_count": 6,
          "metadata": {},
          "output_type": "execute_result"
        }
      ],
      "source": [
        "model.input"
      ]
    },
    {
      "cell_type": "code",
      "execution_count": null,
      "metadata": {
        "colab": {
          "base_uri": "https://localhost:8080/"
        },
        "id": "OHTAv2p8tZa1",
        "outputId": "66e0be58-35eb-4477-9725-d35c906bf538"
      },
      "outputs": [
        {
          "data": {
            "text/plain": [
              "<KerasTensor shape=(None, 1), dtype=float32, sparse=False, name=keras_tensor_87>"
            ]
          },
          "execution_count": 7,
          "metadata": {},
          "output_type": "execute_result"
        }
      ],
      "source": [
        "model.output"
      ]
    },
    {
      "cell_type": "code",
      "execution_count": null,
      "metadata": {
        "id": "mKQTFYtitbge"
      },
      "outputs": [],
      "source": [
        "model.compile(optimizer=\"adam\", loss=\"binary_crossentropy\", metrics=[\"accuracy\"])\n",
        "\n",
        "history = model.fit(train, validation_data=validation, epochs=7)"
      ]
    },
    {
      "cell_type": "markdown",
      "metadata": {
        "id": "CX0P7lh_tfUl"
      },
      "source": [
        "#### `Model Test`"
      ]
    },
    {
      "cell_type": "code",
      "execution_count": null,
      "metadata": {
        "colab": {
          "base_uri": "https://localhost:8080/"
        },
        "id": "_KuxmHAptg2n",
        "outputId": "26b9a101-0aa8-4213-a19d-cddcab2994b7"
      },
      "outputs": [
        {
          "data": {
            "text/plain": [
              "[0.07671281695365906, 0.9729148745536804]"
            ]
          },
          "execution_count": 9,
          "metadata": {},
          "output_type": "execute_result"
        }
      ],
      "source": [
        "model.evaluate(train, verbose=0)"
      ]
    },
    {
      "cell_type": "code",
      "execution_count": null,
      "metadata": {
        "colab": {
          "base_uri": "https://localhost:8080/"
        },
        "id": "sNDDj0q4ti8j",
        "outputId": "65acf158-8f0e-49d0-c11f-a129e3c98cae"
      },
      "outputs": [
        {
          "data": {
            "text/plain": [
              "[0.0923428162932396, 0.9634565711021423]"
            ]
          },
          "execution_count": 10,
          "metadata": {},
          "output_type": "execute_result"
        }
      ],
      "source": [
        "model.evaluate(test, verbose=0)"
      ]
    },
    {
      "cell_type": "code",
      "execution_count": null,
      "metadata": {
        "colab": {
          "base_uri": "https://localhost:8080/"
        },
        "id": "vUBrXobDtjhT",
        "outputId": "934043e3-590b-4fb0-e07d-2e6fc8e2b86e"
      },
      "outputs": [
        {
          "data": {
            "text/plain": [
              "[0.08042021095752716, 0.9716250896453857]"
            ]
          },
          "execution_count": 11,
          "metadata": {},
          "output_type": "execute_result"
        }
      ],
      "source": [
        "model.evaluate(validation, verbose=False)"
      ]
    },
    {
      "cell_type": "markdown",
      "metadata": {
        "id": "Yrn980B0BQsc"
      },
      "source": [
        "Our Model Achieves an Impressive 0.97 Average Accuracy on Training, Validation and Test Datasets"
      ]
    },
    {
      "cell_type": "code",
      "execution_count": null,
      "metadata": {
        "id": "mgvDe133tm_D"
      },
      "outputs": [],
      "source": [
        "import matplotlib.pyplot as plt\n",
        "\n",
        "plt.style.use(\"seaborn-v0_8-whitegrid\")\n",
        "\n",
        "class Helplot:\n",
        "  def __init__(self, history):\n",
        "    self.history = history\n",
        "    self.accuracy = history.history['accuracy']\n",
        "    self.val_accuracy = history.history['val_accuracy']\n",
        "    self.loop = [*range(1, len(self.accuracy) + 1)]\n",
        "    self.loss = history.history['loss']\n",
        "    self.val_loss = history.history['val_loss']\n",
        "\n",
        "  @property\n",
        "  def Relplot(self):\n",
        "    plt.plot(self.loop, self.accuracy, label='Train Accuracy')\n",
        "    plt.plot(self.loop, self.val_accuracy, label='Val Accuracy')\n",
        "    plt.title(\"Accuracy Result\")\n",
        "    plt.xlabel(\"Epochs\")\n",
        "    plt.ylabel(\"Accuracy\")\n",
        "    plt.xticks(self.loop)\n",
        "    plt.legend()\n",
        "\n",
        "  @property\n",
        "  def Falplot(self):\n",
        "    plt.plot(self.loop, self.loss, label='Train Loss')\n",
        "    plt.plot(self.loop, self.val_loss, label='Val Loss')\n",
        "    plt.title(\"Loss Result\")\n",
        "    plt.xlabel(\"Epochs\")\n",
        "    plt.ylabel(\"Loss\")\n",
        "    plt.xticks(self.loop)\n",
        "    plt.legend()\n",
        "\n",
        "plot = Helplot(history)"
      ]
    },
    {
      "cell_type": "code",
      "execution_count": null,
      "metadata": {
        "colab": {
          "base_uri": "https://localhost:8080/",
          "height": 465
        },
        "id": "LELdopxhtoMs",
        "outputId": "0300ee89-3014-4f3b-ac99-0d8c01d20d84"
      },
      "outputs": [
        {
          "data": {
            "image/png": "[encoded data removed]",
            "text/plain": [
              "<Figure size 640x480 with 1 Axes>"
            ]
          },
          "metadata": {},
          "output_type": "display_data"
        }
      ],
      "source": [
        "plot.Relplot"
      ]
    },
    {
      "cell_type": "code",
      "execution_count": null,
      "metadata": {
        "colab": {
          "base_uri": "https://localhost:8080/",
          "height": 465
        },
        "id": "Cd0x8NwDtpIT",
        "outputId": "f233dcd5-cd7a-4c4b-8c66-ed2c89cd208e"
      },
      "outputs": [
        {
          "data": {
            "image/png": "[encoded data removed]",
            "text/plain": [
              "<Figure size 640x480 with 1 Axes>"
            ]
          },
          "metadata": {},
          "output_type": "display_data"
        }
      ],
      "source": [
        "plot.Falplot"
      ]
    },
    {
      "cell_type": "markdown",
      "metadata": {
        "id": "9cr4dbKptsgj"
      },
      "source": [
        "#### `TensorFlow Lite`\n",
        "\n",
        "Deploy Our Model on TensorFlow Lite"
      ]
    },
    {
      "cell_type": "code",
      "execution_count": null,
      "metadata": {
        "id": "TJSqhjDGtzM0"
      },
      "outputs": [],
      "source": [
        "ModelFolder = \"/content/Modelite\"\n",
        "\n",
        "model.export(ModelFolder)"
      ]
    },
    {
      "cell_type": "code",
      "execution_count": null,
      "metadata": {
        "id": "fxa0JWSst0uW"
      },
      "outputs": [],
      "source": [
        "tflite = tf.lite.TFLiteConverter\n",
        "\n",
        "tflite_model = tflite.from_saved_model(ModelFolder)\n",
        "\n",
        "tflite_model.optimizations = [tf.lite.Optimize.DEFAULT]"
      ]
    },
    {
      "cell_type": "code",
      "execution_count": null,
      "metadata": {
        "colab": {
          "base_uri": "https://localhost:8080/"
        },
        "id": "u3_s4w17t20Q",
        "outputId": "9b8e876d-807b-42bd-869b-4564d10f2286"
      },
      "outputs": [
        {
          "data": {
            "text/plain": [
              "(tf.float32, tf.float32)"
            ]
          },
          "execution_count": 17,
          "metadata": {},
          "output_type": "execute_result"
        }
      ],
      "source": [
        "tflite_model.inference_input_type, tflite_model.inference_output_type"
      ]
    },
    {
      "cell_type": "code",
      "execution_count": null,
      "metadata": {
        "colab": {
          "base_uri": "https://localhost:8080/"
        },
        "id": "e8HTFm7jt4XN",
        "outputId": "de20da44-6e13-4db4-aea3-d15ed93252f8"
      },
      "outputs": [
        {
          "data": {
            "text/plain": [
              "3382312"
            ]
          },
          "execution_count": 18,
          "metadata": {},
          "output_type": "execute_result"
        }
      ],
      "source": [
        "tflite_model = tflite_model.convert()\n",
        "\n",
        "pathfile = \"HartModel02.tflite\"\n",
        "\n",
        "tflite_model_file = pathlib.Path(pathfile)\n",
        "\n",
        "tflite_model_file.write_bytes(tflite_model)"
      ]
    },
    {
      "cell_type": "code",
      "execution_count": null,
      "metadata": {
        "colab": {
          "base_uri": "https://localhost:8080/"
        },
        "id": "X2D0qX45uYnb",
        "outputId": "d30bc162-60ca-489a-88e8-adc7fef55b25"
      },
      "outputs": [
        {
          "data": {
            "text/plain": [
              "3.2256240844726562"
            ]
          },
          "execution_count": 19,
          "metadata": {},
          "output_type": "execute_result"
        }
      ],
      "source": [
        "os.path.getsize(pathfile) / float(2**20)"
      ]
    },
    {
      "cell_type": "code",
      "execution_count": null,
      "metadata": {
        "colab": {
          "base_uri": "https://localhost:8080/"
        },
        "id": "ob0bbu_8uacl",
        "outputId": "ee5bf9cf-ef21-4cea-9fbf-992ef0e68131"
      },
      "outputs": [
        {
          "data": {
            "text/plain": [
              "{'serving_default': {'inputs': ['keras_tensor'], 'outputs': ['output_0']}}"
            ]
          },
          "execution_count": 20,
          "metadata": {},
          "output_type": "execute_result"
        }
      ],
      "source": [
        "interpreter = tf.lite.Interpreter(model_path=pathfile)\n",
        "\n",
        "interpreter.get_signature_list()"
      ]
    },
    {
      "cell_type": "code",
      "execution_count": null,
      "metadata": {
        "colab": {
          "base_uri": "https://localhost:8080/"
        },
        "id": "HfJwuRcqudTi",
        "outputId": "5cad7198-781c-441f-e96f-342f12b4255a"
      },
      "outputs": [
        {
          "data": {
            "text/plain": [
              "<tensorflow.lite.python.interpreter.SignatureRunner at 0x7a88c8690fa0>"
            ]
          },
          "execution_count": 21,
          "metadata": {},
          "output_type": "execute_result"
        }
      ],
      "source": [
        "lite_interpreter = interpreter.get_signature_runner('serving_default')\n",
        "\n",
        "lite_interpreter"
      ]
    },
    {
      "cell_type": "code",
      "execution_count": null,
      "metadata": {
        "colab": {
          "base_uri": "https://localhost:8080/"
        },
        "id": "RnmP098sulgh",
        "outputId": "1aad5744-1dbc-4cd8-d27a-52594a3074a9"
      },
      "outputs": [
        {
          "data": {
            "text/plain": [
              "(128, 1)"
            ]
          },
          "execution_count": 22,
          "metadata": {},
          "output_type": "execute_result"
        }
      ],
      "source": [
        "test_images, test_labels = next(iter(test))\n",
        "\n",
        "tensorlite_test = lite_interpreter(keras_tensor=test_images)['output_0']\n",
        "\n",
        "tensorlite_test.shape"
      ]
    },
    {
      "cell_type": "code",
      "execution_count": null,
      "metadata": {
        "colab": {
          "base_uri": "https://localhost:8080/"
        },
        "id": "unL278fPureP",
        "outputId": "f2af4b86-2f51-4322-e42c-5607e47c9dbf"
      },
      "outputs": [
        {
          "data": {
            "text/plain": [
              "array([[0.9999915]], dtype=float32)"
            ]
          },
          "execution_count": 23,
          "metadata": {},
          "output_type": "execute_result"
        }
      ],
      "source": [
        "tensorlite_test[:1]"
      ]
    },
    {
      "cell_type": "markdown",
      "metadata": {
        "id": "4rXd1JNpBQso"
      },
      "source": [
        "#### `TensorFlow Serving`\n",
        "\n",
        "Deploy Our Model on TensorFlow Serving"
      ]
    },
    {
      "cell_type": "code",
      "execution_count": null,
      "metadata": {
        "id": "5MGc5IIlvAzF"
      },
      "outputs": [],
      "source": [
        "# Create Outlabel Layer to Use in TensorFlow Serving\n",
        "\n",
        "class Outlabel(tf.keras.layers.Layer):\n",
        "  def __init__(self):\n",
        "    super(Outlabel, self).__init__()\n",
        "    self.label = [\"Cat\", \"Dog\"]\n",
        "\n",
        "  def call(self, inputs):\n",
        "    tf.config.run_functions_eagerly(True)\n",
        "    logits = tf.cast(tf.round(inputs), tf.int32)\n",
        "    logits = tf.gather(self.label, logits)\n",
        "    return logits"
      ]
    },
    {
      "cell_type": "code",
      "execution_count": null,
      "metadata": {
        "colab": {
          "base_uri": "https://localhost:8080/"
        },
        "id": "2gnGZs_BvDsS",
        "outputId": "10edf4a5-1cad-4113-bfa5-0d0f36731257"
      },
      "outputs": [
        {
          "data": {
            "text/plain": [
              "<KerasTensor shape=(None, 1), dtype=string, sparse=False, name=keras_tensor_89>"
            ]
          },
          "execution_count": 25,
          "metadata": {},
          "output_type": "execute_result"
        }
      ],
      "source": [
        "# Modular Model to TensorFlow Serving\n",
        "\n",
        "input_layer = model.input\n",
        "\n",
        "modular = model(input_layer)\n",
        "\n",
        "output_layer = Outlabel()(modular)\n",
        "\n",
        "modular_server = tf.keras.Model(input_layer, output_layer)\n",
        "\n",
        "modular_server.output"
      ]
    },
    {
      "cell_type": "code",
      "execution_count": null,
      "metadata": {
        "colab": {
          "base_uri": "https://localhost:8080/"
        },
        "id": "HtT93wFavF02",
        "outputId": "140727f4-d9c4-403b-f41c-d293d66a82d4"
      },
      "outputs": [
        {
          "data": {
            "text/plain": [
              "array([[b'Dog'],\n",
              "       [b'Cat'],\n",
              "       [b'Dog']], dtype=object)"
            ]
          },
          "execution_count": 26,
          "metadata": {},
          "output_type": "execute_result"
        }
      ],
      "source": [
        "tester = modular_server.predict(test_images, verbose=0)\n",
        "\n",
        "tester[:3]"
      ]
    },
    {
      "cell_type": "code",
      "execution_count": null,
      "metadata": {
        "id": "w8jWvPRpvIou"
      },
      "outputs": [],
      "source": [
        "ModelFolder = \"/content/ModelServer\"\n",
        "\n",
        "ModelSerial = \"1\"\n",
        "\n",
        "ModuleFolder = os.path.join(ModelFolder, ModelSerial)\n",
        "\n",
        "modular_server.export(ModuleFolder)"
      ]
    },
    {
      "cell_type": "code",
      "execution_count": null,
      "metadata": {
        "id": "NWtZLT0ZvLZf"
      },
      "outputs": [],
      "source": [
        "os.environ[\"ModelFolder\"] = ModelFolder"
      ]
    },
    {
      "cell_type": "code",
      "execution_count": null,
      "metadata": {
        "id": "0kgJX0PRvYL9"
      },
      "outputs": [],
      "source": [
        "!apt update\n",
        "\n",
        "!apt-get install tensorflow-model-server"
      ]
    },
    {
      "cell_type": "code",
      "execution_count": null,
      "metadata": {
        "id": "ivfnbgbjvpi1"
      },
      "outputs": [],
      "source": [
        "%%bash --bg\n",
        "nohup tensorflow_model_server \\\n",
        "  --rest_api_port=8501 \\\n",
        "  --model_name=inter_model \\\n",
        "  --model_base_path=\"${ModelFolder}\" > server.log 2>&1"
      ]
    },
    {
      "cell_type": "code",
      "execution_count": null,
      "metadata": {
        "id": "hvPHqJG4vrsB"
      },
      "outputs": [],
      "source": [
        "!tail server.log"
      ]
    },
    {
      "cell_type": "code",
      "execution_count": null,
      "metadata": {
        "id": "FYXkfiQJvuaa"
      },
      "outputs": [],
      "source": [
        "import json, requests\n",
        "\n",
        "test_img, test_label = next(iter(validation))\n",
        "\n",
        "test_img = test_img.numpy().tolist()\n",
        "\n",
        "url = \"http://127.0.0.1:8501/v1/models/inter_model:predict\""
      ]
    },
    {
      "cell_type": "code",
      "execution_count": null,
      "metadata": {
        "colab": {
          "base_uri": "https://localhost:8080/"
        },
        "id": "1dm0beUEvxlH",
        "outputId": "93484974-212e-40e5-9de4-deec4e7f6b3f"
      },
      "outputs": [
        {
          "data": {
            "text/plain": [
              "[['Cat'], ['Dog'], ['Dog'], ['Cat'], ['Cat']]"
            ]
          },
          "execution_count": 33,
          "metadata": {},
          "output_type": "execute_result"
        }
      ],
      "source": [
        "image = json.dumps({\"signature_name\":\"serving_default\", \"instances\":test_img})\n",
        "\n",
        "content = {\"content-type\":\"application/json\"}\n",
        "\n",
        "response = requests.post(url, data=image, headers=content)\n",
        "\n",
        "loader = json.loads(response.text)\n",
        "\n",
        "result = loader[\"predictions\"]\n",
        "\n",
        "result[:5]"
      ]
    }
  ],
  "metadata": {
    "colab": {
      "provenance": []
    },
    "kernelspec": {
      "display_name": "Python 3 (ipykernel)",
      "language": "python",
      "name": "python3"
    },
    "language_info": {
      "codemirror_mode": {
        "name": "ipython",
        "version": 3
      },
      "file_extension": ".py",
      "mimetype": "text/x-python",
      "name": "python",
      "nbconvert_exporter": "python",
      "pygments_lexer": "ipython3",
      "version": "3.9.13"
    }
  },
  "nbformat": 4,
  "nbformat_minor": 0
}